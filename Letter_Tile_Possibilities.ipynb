{
 "cells": [
  {
   "cell_type": "markdown",
   "id": "fd32113f-f038-4cba-9fea-96406d298b82",
   "metadata": {},
   "source": [
    "## Letter Tile Possibilities"
   ]
  },
  {
   "cell_type": "markdown",
   "id": "27290ed9-3b16-4eeb-ac51-cf058794152f",
   "metadata": {},
   "source": [
    "You have n  tiles, where each tile has one letter tiles[i] printed on it.\n",
    "\n",
    "Return the number of possible non-empty sequences of letters you can make using the letters printed on those tiles.\n",
    " "
   ]
  },
  {
   "cell_type": "markdown",
   "id": "9c19855c-ef4f-4d7f-af7e-46129201589b",
   "metadata": {},
   "source": [
    "### Example 1:"
   ]
  },
  {
   "cell_type": "markdown",
   "id": "46782b32-8d42-4969-92c8-91dfda78443d",
   "metadata": {},
   "source": [
    "Input: tiles = \"AAB\" \n",
    "\n",
    "Output: 8 \n",
    "\n",
    "Explanation: The possible sequences are \"A\", \"B\", \"AA\", \"AB\", \"BA\", \"AAB\", \"ABA\", \"BAA\"."
   ]
  },
  {
   "cell_type": "markdown",
   "id": "202bc277-f754-49d6-8b7a-4df5262349c7",
   "metadata": {},
   "source": [
    "### Example 2:"
   ]
  },
  {
   "cell_type": "markdown",
   "id": "43843469-6768-4ce4-acb2-8684d7d37c64",
   "metadata": {},
   "source": [
    "Input: tiles = \"AAABBC\"\n",
    "\n",
    "Output: 188"
   ]
  },
  {
   "cell_type": "markdown",
   "id": "602ddf98-a619-462e-ad6e-f0a2e045f98c",
   "metadata": {},
   "source": [
    "### Example 3:"
   ]
  },
  {
   "cell_type": "markdown",
   "id": "8530eef6-569a-4b29-bb3b-ffb3262c4979",
   "metadata": {},
   "source": [
    "Input: tiles = \"V\"\n",
    "\n",
    "Output: 1"
   ]
  },
  {
   "cell_type": "markdown",
   "id": "ae01139c-8a86-4d89-a11c-d00cca716084",
   "metadata": {},
   "source": [
    "### Constraints:"
   ]
  },
  {
   "cell_type": "markdown",
   "id": "15538ade-a5ea-46a2-89ad-67fdca23efac",
   "metadata": {},
   "source": [
    "1 <= tiles.length <= 7\n",
    "\n",
    "tiles consists of uppercase English letters."
   ]
  },
  {
   "cell_type": "markdown",
   "id": "cc541bf2-d18a-4be3-bc36-3666daf215db",
   "metadata": {},
   "source": [
    "### Solution: "
   ]
  },
  {
   "cell_type": "code",
   "execution_count": 29,
   "id": "32c36b58-eebf-4160-93b5-d447f992ab97",
   "metadata": {},
   "outputs": [],
   "source": [
    "class Solution:\n",
    "    def numTilePossibilities(self, tiles: str) -> int:\n",
    "        new_list = [s.upper() for s in tiles]\n",
    "        c_list = [c for c in new_list if c.strip()]\n",
    "\n",
    "        new_list = []\n",
    "        for i in range(len(c_list)+1):\n",
    "            perm = permutations(c_list, i)\n",
    "            for j in list(perm):\n",
    "                new_list.append(''.join(j))\n",
    "        uniqe_list = list(set(new_list))\n",
    "        ans = [c for c in uniqe_list if c.strip()]\n",
    "        #print(len(ans))\n",
    "        \n",
    "        return len(ans)"
   ]
  },
  {
   "cell_type": "code",
   "execution_count": null,
   "id": "223694a3-fb7d-4ae7-8a08-6536bf1a4b0f",
   "metadata": {},
   "outputs": [],
   "source": []
  },
  {
   "cell_type": "code",
   "execution_count": null,
   "id": "2309869d-6302-424a-9b12-6b5d7f453eae",
   "metadata": {},
   "outputs": [],
   "source": []
  }
 ],
 "metadata": {
  "kernelspec": {
   "display_name": "Python [conda env:base] *",
   "language": "python",
   "name": "conda-base-py"
  },
  "language_info": {
   "codemirror_mode": {
    "name": "ipython",
    "version": 3
   },
   "file_extension": ".py",
   "mimetype": "text/x-python",
   "name": "python",
   "nbconvert_exporter": "python",
   "pygments_lexer": "ipython3",
   "version": "3.12.7"
  }
 },
 "nbformat": 4,
 "nbformat_minor": 5
}
